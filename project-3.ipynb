{
 "cells": [
  {
   "cell_type": "code",
   "execution_count": 1,
   "metadata": {},
   "outputs": [
    {
     "name": "stdout",
     "output_type": "stream",
     "text": [
      "Requirement already satisfied: gensim in c:\\users\\12753\\anaconda3\\envs\\is310\\lib\\site-packages (4.3.3)\n",
      "Requirement already satisfied: numpy<2.0,>=1.18.5 in c:\\users\\12753\\anaconda3\\envs\\is310\\lib\\site-packages (from gensim) (1.26.4)\n",
      "Requirement already satisfied: scipy<1.14.0,>=1.7.0 in c:\\users\\12753\\anaconda3\\envs\\is310\\lib\\site-packages (from gensim) (1.13.1)\n",
      "Requirement already satisfied: smart-open>=1.8.1 in c:\\users\\12753\\anaconda3\\envs\\is310\\lib\\site-packages (from gensim) (7.1.0)\n",
      "Requirement already satisfied: wrapt in c:\\users\\12753\\anaconda3\\envs\\is310\\lib\\site-packages (from smart-open>=1.8.1->gensim) (1.17.2)\n"
     ]
    }
   ],
   "source": [
    "!pip install gensim\n"
   ]
  },
  {
   "cell_type": "code",
   "execution_count": 2,
   "metadata": {},
   "outputs": [],
   "source": [
    "import gensim\n",
    "\n",
    "import gensim.downloader"
   ]
  },
  {
   "cell_type": "markdown",
   "metadata": {},
   "source": [
    "Part 1: Word Embeddings"
   ]
  },
  {
   "cell_type": "code",
   "execution_count": 3,
   "metadata": {},
   "outputs": [
    {
     "name": "stdout",
     "output_type": "stream",
     "text": [
      "[==================================================] 100.0% 128.1/128.1MB downloaded\n",
      "[('cat', 0.8798074126243591), ('dogs', 0.8344309329986572), ('pet', 0.7449564337730408), ('puppy', 0.723637580871582), ('horse', 0.7109653949737549), ('animal', 0.6817063093185425), ('pig', 0.655417263507843), ('boy', 0.6545308232307434), ('cats', 0.6471932530403137), ('rabbit', 0.6468630433082581)]\n",
      "0.8798075\n"
     ]
    }
   ],
   "source": [
    "# Load pre-trained Word2Vec model trained on wikipedia data\n",
    "\n",
    "model = gensim.downloader.load(\"glove-wiki-gigaword-100\")\n",
    "# Getting the vector for a word\n",
    "\n",
    "dog = model['dog']\n",
    "\n",
    "# Getting the most similar words\n",
    "\n",
    "print(model.most_similar('dog'))\n",
    "\n",
    "# Getting the similarity between two words\n",
    "\n",
    "print(model.similarity('dog', 'cat'))\n"
   ]
  },
  {
   "cell_type": "markdown",
   "metadata": {},
   "source": [
    "Part 1a"
   ]
  },
  {
   "cell_type": "code",
   "execution_count": null,
   "metadata": {},
   "outputs": [
    {
     "name": "stdout",
     "output_type": "stream",
     "text": [
      "[('football', 0.855563759803772), ('hockey', 0.8041675090789795), ('soccer', 0.8003970980644226), ('nba', 0.7771992683410645), ('baseball', 0.7645360827445984), ('volleyball', 0.7434347867965698), ('softball', 0.7363321185112), ('sports', 0.7128217816352844), ('team', 0.7124603986740112), ('ncaa', 0.7113979458808899)]\n"
     ]
    }
   ],
   "source": [
    "\n",
    "#find the most similar words to a word of your choice. \n",
    "#Does the result make sense? Look up some of the words if you don't know them\n",
    "#Share and discuss with your group\n",
    "\n",
    "basketball = model['basketball']\n",
    "print(model.most_similar('basketball'))\n",
    "\n",
    "#I think the result makes sense. The words are all related to basketball in some way."
   ]
  },
  {
   "cell_type": "code",
   "execution_count": 5,
   "metadata": {},
   "outputs": [
    {
     "name": "stdout",
     "output_type": "stream",
     "text": [
      "[('paris', 0.8827144503593445), ('france', 0.755802571773529), ('french', 0.7075165510177612), ('prohertrib', 0.6943174004554749), ('berlin', 0.666556179523468), ('brussels', 0.6574430465698242), ('lyon', 0.6526200175285339), ('london', 0.64079749584198), ('le', 0.6403627991676331), ('strasbourg', 0.6346526741981506)]\n",
      "[('lowlanders', 0.4844588041305542), ('zebras', 0.45914992690086365), ('dicots', 0.45332765579223633), ('non-arabs', 0.45208773016929626), ('amerindians', 0.4478238821029663), ('buffalos', 0.4475124180316925), ('giraffes', 0.4466330111026764), ('bavarians', 0.4452260732650757), ('welshmen', 0.44406628608703613), ('dingos', 0.4440328776836395)]\n",
      "[('dogs', 0.8921768665313721), ('cats', 0.8814380764961243), ('dog', 0.7873795628547668), ('animals', 0.7512702345848083), ('pets', 0.7392117977142334), ('cows', 0.6835324168205261), ('pet', 0.679297685623169), ('horses', 0.6774964928627014), ('pigs', 0.6755765080451965), ('animal', 0.6683687567710876)]\n"
     ]
    }
   ],
   "source": [
    "\n",
    "#we can extract a \"capital vector\" by subtracting the vector for a country from the vector for its capital\n",
    "capital= model[\"berlin\"]-model['germany']\n",
    "\n",
    "fra_capital=model[\"france\"]+capital\n",
    "\n",
    "print(model.most_similar(fra_capital))\n",
    "#likewise, we can extract a \"plural vector\" by subtracting the vector for a singular noun from the vector for its plural\n",
    "plural=model[\"cats\"]-model[\"cat\"]\n",
    "\n",
    "print(model.most_similar(plural))\n",
    "\n",
    "#we can also add vectors together\n",
    "plural_dogs=model[\"dog\"]+plural\n",
    "\n",
    "print(model.most_similar(plural_dogs))\n",
    "\n"
   ]
  },
  {
   "cell_type": "code",
   "execution_count": 6,
   "metadata": {},
   "outputs": [
    {
     "name": "stdout",
     "output_type": "stream",
     "text": [
      "[('menstruating', 0.6102039217948914), ('miscarry', 0.5550354719161987), ('lactating', 0.542172908782959), ('pre-eclampsia', 0.5129693150520325), ('uterus', 0.5093088150024414), ('ovulating', 0.5070309042930603), ('miscarried', 0.5043483376502991), ('adoptee', 0.5012543201446533), ('comnena', 0.5012539625167847), ('pulecio', 0.500389039516449)]\n",
      "[('arsene', 0.4388486444950104), ('ancelotti', 0.4215139150619507), ('nistelrooy', 0.41140037775039673), ('strachan', 0.4089668393135071), ('rafa', 0.40728434920310974), ('technicals', 0.4060872495174408), ('allardyce', 0.4018688201904297), ('boss', 0.4010736346244812), ('rangers', 0.39962300658226013), ('utd', 0.3967454135417938)]\n"
     ]
    },
    {
     "data": {
      "text/plain": [
       "[('doctor', 0.8661208748817444),\n",
       " ('nurse', 0.7757077813148499),\n",
       " ('physician', 0.7128061652183533),\n",
       " ('woman', 0.7089030742645264),\n",
       " ('doctors', 0.6793617010116577),\n",
       " ('pregnant', 0.6787967681884766),\n",
       " ('patient', 0.6772217750549316),\n",
       " ('dentist', 0.6694242358207703),\n",
       " ('mother', 0.6586816310882568),\n",
       " ('medical', 0.6466937065124512)]"
      ]
     },
     "execution_count": 6,
     "metadata": {},
     "output_type": "execute_result"
    }
   ],
   "source": [
    "# this can be used to find examples of data bias in word embeddings\n",
    "\n",
    "# for example, we can find the most similar words to \"doctor\" and \"nurse\"\n",
    "\n",
    "gender=model[\"woman\"]-model[\"man\"]\n",
    "\n",
    "print(model.most_similar(gender))\n",
    "print(model.most_similar(-gender))\n",
    "\n",
    "model.most_similar(model[\"doctor\"]+gender)\n",
    "\n"
   ]
  },
  {
   "cell_type": "markdown",
   "metadata": {},
   "source": [
    "Part 1b"
   ]
  },
  {
   "cell_type": "code",
   "execution_count": null,
   "metadata": {},
   "outputs": [
    {
     "name": "stdout",
     "output_type": "stream",
     "text": [
      "[('meatballs', 0.5875340700149536), ('ravioli', 0.5719979405403137), ('gnocchi', 0.5678608417510986), ('sausages', 0.5676326155662537), ('costantino', 0.5552986264228821), ('lasagna', 0.5527873635292053), ('pasta', 0.5406556129455566), ('mozzarella', 0.5394600629806519), ('spaghetti', 0.5354750752449036), ('prosciutto', 0.5334103107452393)]\n",
      "[('doughnuts', 0.5395753383636475), ('spaghetti', 0.5321949124336243), ('ravioli', 0.5299811959266663), ('sandwiches', 0.5210487842559814), ('potato', 0.5182456374168396), ('jelly', 0.51515793800354), ('bagels', 0.5151510834693909), ('pudding', 0.5113402009010315), ('cheese', 0.5100163221359253), ('tamales', 0.5057138800621033)]\n"
     ]
    }
   ],
   "source": [
    "#try to isolate a specific dimension in the embeddings and add it to multiple words. \n",
    "#does this show any bias or assumptions in the data? \n",
    "# Discuss with your group and share most interesting dimension in the document\n",
    "\n",
    "food_in_china_vector = model[\"dumplings\"] - model[\"china\"]\n",
    "food_in_italy = model[\"italy\"] + food_in_china_vector\n",
    "print(model.most_similar(food_in_italy))\n",
    "\n",
    "food_in_america = model[\"america\"] + food_in_china_vector\n",
    "print(model.most_similar(food_in_america))\n",
    "\n",
    "#I found that these are all foods that are popular in Italy and USA. This shows that the model has learned that these foods are popular in these countries."
   ]
  },
  {
   "cell_type": "markdown",
   "metadata": {},
   "source": [
    "Part 2: Visualization and Embeddings in Space"
   ]
  },
  {
   "cell_type": "code",
   "execution_count": 12,
   "metadata": {},
   "outputs": [
    {
     "data": {
      "image/png": "[encoded data removed]",
      "text/plain": [
       "<Figure size 640x480 with 1 Axes>"
      ]
     },
     "metadata": {},
     "output_type": "display_data"
    }
   ],
   "source": [
    "#visualize pca of word embeddings\n",
    "\n",
    "from sklearn.decomposition import PCA\n",
    "\n",
    "import matplotlib.pyplot as plt\n",
    "\n",
    "words=[\"dog\",\"cat\",\"fish\", \"whale\", \"bird\", \"eagle\", \"lion\", \"tiger\", \"cheetah\", \"elephant\", \"giraffe\", \"zebra\", \"kangaroo\", \"koala\", \"panda\", \"monkey\", \"gorilla\", \"chimpanzee\", \"orangutan\", ]\n",
    "\n",
    "X=[model[word] for word in words]\n",
    "\n",
    "#identify clusters of words in the word embeddings at high dimensions\n",
    "\n",
    "pca=PCA(n_components=2)\n",
    "\n",
    "X_pca=pca.fit_transform(X)\n",
    "\n",
    "plt.scatter(X_pca[:,0],X_pca[:,1])\n",
    "\n",
    "for i, word in enumerate(words):\n",
    "    plt.annotate(word, (X_pca[i,0],X_pca[i,1]))\n",
    "\n",
    "plt.show()"
   ]
  },
  {
   "cell_type": "code",
   "execution_count": null,
   "metadata": {},
   "outputs": [
    {
     "data": {
      "image/png": "[encoded data removed]",
      "text/plain": [
       "<Figure size 640x480 with 1 Axes>"
      ]
     },
     "metadata": {},
     "output_type": "display_data"
    }
   ],
   "source": [
    "#repeat this process with your own set of 10-20 words. \n",
    "#Does the proximity between words and overall distances make sense? Work as a group and discuss your individual findings.\n",
    "words=[\"toyota\", \"honda\", \"bmw\", \"audi\", \"mercedes\", \"ferrari\", \"chevrolet\", \"hyundai\", \"tesla\", \"nissan\", ]\n",
    "\n",
    "X=[model[word] for word in words]\n",
    "\n",
    "pca=PCA(n_components=2)\n",
    "\n",
    "X_pca=pca.fit_transform(X)\n",
    "\n",
    "plt.scatter(X_pca[:,0],X_pca[:,1])\n",
    "\n",
    "for i, word in enumerate(words):\n",
    "    plt.annotate(word, (X_pca[i,0],X_pca[i,1]))\n",
    "\n",
    "plt.show()\n",
    "\n",
    "\n",
    "#We can see that the words are clustered together in a way that makes sense. For example, the luxury car brands are clustered together, and the more affordable car brands are clustered together."
   ]
  },
  {
   "cell_type": "code",
   "execution_count": 17,
   "metadata": {},
   "outputs": [
    {
     "name": "stdout",
     "output_type": "stream",
     "text": [
      "[==================================================] 100.0% 387.1/387.1MB downloaded\n"
     ]
    }
   ],
   "source": [
    "# repeat the process with a different pre-trained model and the same set of words. \n",
    "# What has changed in the embedding space? What might this have to do with the training data?\n",
    "twitter_model= gensim.downloader.load(\"glove-twitter-100\")\n"
   ]
  },
  {
   "cell_type": "markdown",
   "metadata": {},
   "source": [
    "Part 3: Embedding reddit posts"
   ]
  },
  {
   "cell_type": "code",
   "execution_count": null,
   "metadata": {},
   "outputs": [],
   "source": [
    "#read in uiuc csv\n",
    "uiuc=pd.read_csv(\"uiuc.csv\")\n",
    "mich=pd.read_csv(\"umich.csv\")\n",
    "\n",
    "#sample so we have even number of samples from each dataset\n",
    "mich=mich.sample(n=4725)\n",
    "\n",
    "#assign labels based on origin subreddit of comment\n",
    "uiuc['label']=1\n",
    "mich['label']=0\n",
    "\n",
    "#you will be working with the data csv for the rest of the question\n",
    "data=pd.concat([uiuc,mich])\n",
    "\n",
    "\n"
   ]
  },
  {
   "cell_type": "code",
   "execution_count": null,
   "metadata": {},
   "outputs": [],
   "source": [
    "#using the code from project 1, clean the text and create a bag of words representation of the text\n"
   ]
  },
  {
   "cell_type": "code",
   "execution_count": null,
   "metadata": {},
   "outputs": [],
   "source": [
    "#using the embedding code from last week, plot a pca of all posts in the subreddits data set\n",
    "\n",
    "#color by the \"label\" column to see if the two subreddits are separable in the embedding space\n",
    "\n",
    "# is there a clear separation between the two columns? "
   ]
  },
  {
   "cell_type": "code",
   "execution_count": null,
   "metadata": {},
   "outputs": [],
   "source": [
    "#here is a function to calculate the average embedding of a cleaned document\n",
    "import numpy as np\n",
    "#we can sum together all the embeddings to get a representation of all the concepts expressed in the document\n",
    "def avg_embedding(sentence, model):\n",
    "    words=sentence.split()\n",
    "    embeddings=[model[word] for word in words if word in model]\n",
    "    return np.mean(embeddings, axis=0)\n",
    "\n",
    "sentences=[\"i am running today\", \"i will jog tomorrow\", \"i ran yesterday\", \"i love drawing\", \"i adore painting\", \"i used to like pottery\"]\n",
    "\n",
    "#we can then calculate the average embedding of each sentence\n",
    "\n",
    "avg_embeddings=[avg_embedding(sentence, model) for sentence in sentences]\n",
    "\n",
    "#remove nan values\n",
    "avg_embeddings=[embedding for embedding in avg_embeddings if not np.isnan(embedding).any()]\n",
    "#we can then plot the pca of these embeddings\n",
    "\n",
    "pca=PCA(n_components=2)\n",
    "\n",
    "X_pca=pca.fit_transform(avg_embeddings)\n",
    "\n",
    "plt.scatter(X_pca[:,0],X_pca[:,1])\n",
    "\n",
    "for i, sentence in enumerate(sentences):\n",
    "    plt.annotate(sentence, (X_pca[i,0],X_pca[i,1]))\n",
    "\n",
    "plt.show()"
   ]
  },
  {
   "cell_type": "code",
   "execution_count": null,
   "metadata": {},
   "outputs": [],
   "source": []
  },
  {
   "cell_type": "code",
   "execution_count": null,
   "metadata": {},
   "outputs": [],
   "source": [
    "\n",
    "#use this function to calculate the average embedding of each post in the dataset\n",
    "\n",
    "#plot the pca of the average embeddings, color by the \"label\" column\n",
    "\n",
    "#how is this plot different from the previous one?\n",
    "\n",
    "#is there clear separation? "
   ]
  },
  {
   "cell_type": "markdown",
   "metadata": {},
   "source": [
    "Part 4: HuggingFace and BERT"
   ]
  },
  {
   "cell_type": "code",
   "execution_count": null,
   "metadata": {},
   "outputs": [],
   "source": [
    "!pip install transformers"
   ]
  },
  {
   "cell_type": "code",
   "execution_count": 100,
   "metadata": {},
   "outputs": [
    {
     "data": {
      "application/vnd.jupyter.widget-view+json": {
       "model_id": "34092752016945d2b6545a2c98fc84da",
       "version_major": 2,
       "version_minor": 0
      },
      "text/plain": [
       "config.json:   0%|          | 0.00/949 [00:00<?, ?B/s]"
      ]
     },
     "metadata": {},
     "output_type": "display_data"
    },
    {
     "name": "stderr",
     "output_type": "stream",
     "text": [
      "c:\\Users\\lucia\\anaconda3\\Lib\\site-packages\\huggingface_hub\\file_download.py:148: UserWarning: `huggingface_hub` cache-system uses symlinks by default to efficiently store duplicated files but your machine does not support them in C:\\Users\\lucia\\.cache\\huggingface\\hub\\models--finiteautomata--bertweet-base-sentiment-analysis. Caching files will still work but in a degraded version that might require more space on your disk. This warning can be disabled by setting the `HF_HUB_DISABLE_SYMLINKS_WARNING` environment variable. For more details, see https://huggingface.co/docs/huggingface_hub/how-to-cache#limitations.\n",
      "To support symlinks on Windows, you either need to activate Developer Mode or to run Python as an administrator. In order to see activate developer mode, see this article: https://docs.microsoft.com/en-us/windows/apps/get-started/enable-your-device-for-development\n",
      "  warnings.warn(message)\n"
     ]
    },
    {
     "name": "stdout",
     "output_type": "stream",
     "text": [
      "WARNING:tensorflow:From c:\\Users\\lucia\\anaconda3\\Lib\\site-packages\\tf_keras\\src\\losses.py:2976: The name tf.losses.sparse_softmax_cross_entropy is deprecated. Please use tf.compat.v1.losses.sparse_softmax_cross_entropy instead.\n",
      "\n"
     ]
    },
    {
     "data": {
      "application/vnd.jupyter.widget-view+json": {
       "model_id": "cbe018bf44a94ae8bedf2dcd3a05f834",
       "version_major": 2,
       "version_minor": 0
      },
      "text/plain": [
       "pytorch_model.bin:   0%|          | 0.00/540M [00:00<?, ?B/s]"
      ]
     },
     "metadata": {},
     "output_type": "display_data"
    },
    {
     "data": {
      "application/vnd.jupyter.widget-view+json": {
       "model_id": "9279f56d663b4528bc0977deca0d8566",
       "version_major": 2,
       "version_minor": 0
      },
      "text/plain": [
       "tokenizer_config.json:   0%|          | 0.00/338 [00:00<?, ?B/s]"
      ]
     },
     "metadata": {},
     "output_type": "display_data"
    },
    {
     "data": {
      "application/vnd.jupyter.widget-view+json": {
       "model_id": "abe1de15e86f483fad44b20ec0672d52",
       "version_major": 2,
       "version_minor": 0
      },
      "text/plain": [
       "vocab.txt:   0%|          | 0.00/843k [00:00<?, ?B/s]"
      ]
     },
     "metadata": {},
     "output_type": "display_data"
    },
    {
     "data": {
      "application/vnd.jupyter.widget-view+json": {
       "model_id": "3b97044be3504c4f8f8b2d36c772dacb",
       "version_major": 2,
       "version_minor": 0
      },
      "text/plain": [
       "bpe.codes:   0%|          | 0.00/1.08M [00:00<?, ?B/s]"
      ]
     },
     "metadata": {},
     "output_type": "display_data"
    },
    {
     "data": {
      "application/vnd.jupyter.widget-view+json": {
       "model_id": "6a22c400aad74e5ebcadb1b9595c853e",
       "version_major": 2,
       "version_minor": 0
      },
      "text/plain": [
       "added_tokens.json:   0%|          | 0.00/22.0 [00:00<?, ?B/s]"
      ]
     },
     "metadata": {},
     "output_type": "display_data"
    },
    {
     "data": {
      "application/vnd.jupyter.widget-view+json": {
       "model_id": "52abf0656755450184831acc59256649",
       "version_major": 2,
       "version_minor": 0
      },
      "text/plain": [
       "special_tokens_map.json:   0%|          | 0.00/167 [00:00<?, ?B/s]"
      ]
     },
     "metadata": {},
     "output_type": "display_data"
    },
    {
     "name": "stderr",
     "output_type": "stream",
     "text": [
      "emoji is not installed, thus not converting emoticons or emojis into text. Install emoji: pip3 install emoji==0.6.0\n"
     ]
    }
   ],
   "source": [
    "#Please wait until after next week to start\n",
    "\n",
    "# Use a pipeline as a high-level helper\n",
    "from transformers import pipeline\n",
    "\n",
    "#download bert model\n",
    "pipe = pipeline(\"text-classification\", model=\"finiteautomata/bertweet-base-sentiment-analysis\")\n"
   ]
  },
  {
   "cell_type": "code",
   "execution_count": 101,
   "metadata": {},
   "outputs": [
    {
     "data": {
      "text/plain": [
       "[{'label': 'POS', 'score': 0.9923704862594604}]"
      ]
     },
     "execution_count": 101,
     "metadata": {},
     "output_type": "execute_result"
    },
    {
     "ename": "",
     "evalue": "",
     "output_type": "error",
     "traceback": [
      "\u001b[1;31mThe Kernel crashed while executing code in the current cell or a previous cell. \n",
      "\u001b[1;31mPlease review the code in the cell(s) to identify a possible cause of the failure. \n",
      "\u001b[1;31mClick <a href='https://aka.ms/vscodeJupyterKernelCrash'>here</a> for more info. \n",
      "\u001b[1;31mView Jupyter <a href='command:jupyter.viewOutput'>log</a> for further details."
     ]
    }
   ],
   "source": [
    "#use the pipeline to classify the sentiment of a sentence of your choice\n",
    "pipe(\"I love this class\")"
   ]
  },
  {
   "cell_type": "code",
   "execution_count": null,
   "metadata": {},
   "outputs": [],
   "source": [
    "#use the pipeline to classify the sentiment of all posts in the reddit dataset\n",
    "#report the most common sentiment label"
   ]
  },
  {
   "cell_type": "code",
   "execution_count": null,
   "metadata": {},
   "outputs": [],
   "source": [
    "#look at ten sample posts and labels; do you agree with all of them? "
   ]
  },
  {
   "cell_type": "code",
   "execution_count": null,
   "metadata": {},
   "outputs": [],
   "source": [
    "#is the UIUC or Michigan subreddit more negative?"
   ]
  },
  {
   "cell_type": "code",
   "execution_count": null,
   "metadata": {},
   "outputs": [],
   "source": []
  }
 ],
 "metadata": {
  "kernelspec": {
   "display_name": "is310",
   "language": "python",
   "name": "python3"
  },
  "language_info": {
   "codemirror_mode": {
    "name": "ipython",
    "version": 3
   },
   "file_extension": ".py",
   "mimetype": "text/x-python",
   "name": "python",
   "nbconvert_exporter": "python",
   "pygments_lexer": "ipython3",
   "version": "3.9.21"
  }
 },
 "nbformat": 4,
 "nbformat_minor": 2
}
